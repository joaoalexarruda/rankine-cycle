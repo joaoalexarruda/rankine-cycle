{
 "cells": [
  {
   "cell_type": "code",
   "execution_count": null,
   "metadata": {},
   "outputs": [
    {
     "ename": "KeyError",
     "evalue": "'T'",
     "output_type": "error",
     "traceback": [
      "\u001b[1;31m---------------------------------------------------------------------------\u001b[0m",
      "\u001b[1;31mKeyError\u001b[0m                                  Traceback (most recent call last)",
      "Cell \u001b[1;32mIn[1], line 135\u001b[0m\n\u001b[0;32m    133\u001b[0m data[\u001b[38;5;124m'\u001b[39m\u001b[38;5;124mCorrente\u001b[39m\u001b[38;5;124m'\u001b[39m]\u001b[38;5;241m.\u001b[39mappend(\u001b[38;5;241m10\u001b[39m)\n\u001b[0;32m    134\u001b[0m data[\u001b[38;5;124m'\u001b[39m\u001b[38;5;124mPressão (kPa)\u001b[39m\u001b[38;5;124m'\u001b[39m]\u001b[38;5;241m.\u001b[39mappend(P9)\n\u001b[1;32m--> 135\u001b[0m data[\u001b[38;5;124m'\u001b[39m\u001b[38;5;124mTemperatura (°C)\u001b[39m\u001b[38;5;124m'\u001b[39m]\u001b[38;5;241m.\u001b[39mappend(\u001b[38;5;28mround\u001b[39m(\u001b[43mprops\u001b[49m\u001b[43m[\u001b[49m\u001b[38;5;124;43m'\u001b[39;49m\u001b[38;5;124;43mT\u001b[39;49m\u001b[38;5;124;43m'\u001b[39;49m\u001b[43m]\u001b[49m, \u001b[38;5;241m1\u001b[39m))\n\u001b[0;32m    136\u001b[0m data[\u001b[38;5;124m'\u001b[39m\u001b[38;5;124mEntalpia (kJ/kg)\u001b[39m\u001b[38;5;124m'\u001b[39m]\u001b[38;5;241m.\u001b[39mappend(\u001b[38;5;28mround\u001b[39m(props[\u001b[38;5;124m'\u001b[39m\u001b[38;5;124mH\u001b[39m\u001b[38;5;124m'\u001b[39m], \u001b[38;5;241m1\u001b[39m))\n\u001b[0;32m    137\u001b[0m data[\u001b[38;5;124m'\u001b[39m\u001b[38;5;124mEntropia (kJ/kg·K)\u001b[39m\u001b[38;5;124m'\u001b[39m]\u001b[38;5;241m.\u001b[39mappend(\u001b[38;5;28mround\u001b[39m(props[\u001b[38;5;124m'\u001b[39m\u001b[38;5;124mS\u001b[39m\u001b[38;5;124m'\u001b[39m], \u001b[38;5;241m3\u001b[39m))\n",
      "\u001b[1;31mKeyError\u001b[0m: 'T'"
     ]
    }
   ],
   "source": [
    "# Trabalho da Bomba 2 (processo isentrópico)\n",
    "# W_bomba = v * ΔP, onde v é o volume específico do líquido\n",
    "v12 = 1 / CP.PropsSI('D', 'P', P12*1e3, 'H', h12*1000, 'Water')\n",
    "W_bomba2 = v12 * (P13 - P12)  # Trabalho da bomba em J/kg\n",
    "\n",
    "# Entalpia do Ponto 13\n",
    "h13 = h12 + W_bomba2\n",
    "\n",
    "# Temperatura do Ponto 13\n",
    "T13 = CP.PropsSI('T', 'P', P13*1e3, 'H', h13*1000, 'Water') - 273.15\n",
    "\n",
    "df.loc[len(df)] = [13, P13, round(T13,1), h13, s13, 'Líquido comprimido', m_dot13]\n",
    "df.iloc[-1]"
   ]
  }
 ],
 "metadata": {
  "kernelspec": {
   "display_name": ".venv",
   "language": "python",
   "name": "python3"
  },
  "language_info": {
   "codemirror_mode": {
    "name": "ipython",
    "version": 3
   },
   "file_extension": ".py",
   "mimetype": "text/x-python",
   "name": "python",
   "nbconvert_exporter": "python",
   "pygments_lexer": "ipython3",
   "version": "3.11.3"
  }
 },
 "nbformat": 4,
 "nbformat_minor": 2
}
