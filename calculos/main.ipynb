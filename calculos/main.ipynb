{
 "cells": [
  {
   "cell_type": "markdown",
   "metadata": {},
   "source": [
    "# ESTUDO E RESOLUÇÃO DO CICLO DE RANKINE COM MODIFICAÇÕES\n",
    "\n",
    "---"
   ]
  },
  {
   "cell_type": "markdown",
   "metadata": {},
   "source": [
    "## Descrição do Problema Proposto"
   ]
  },
  {
   "cell_type": "markdown",
   "metadata": {},
   "source": [
    "A figura a seguir contém o esquema do ciclo termodinâmico de potência\n",
    "a ser avaliado neste trabalho:\n",
    "\n",
    "![problema](./images/esquema-problema.png)"
   ]
  },
  {
   "cell_type": "markdown",
   "metadata": {},
   "source": [
    "As hipóteses para serem adotadas para o ciclo:\n",
    "\n",
    " - Fluido de trabalho: vapor d’água;\n",
    " - Perda de carga desprezível nos equipamentos de troca térmica;\n",
    " - Operação isentrópica das turbinas e das bombas;\n",
    " - Vazão mássica (ṁ ) da corrente 1 fixa em 10.000 kg/h;\n",
    " - Saída do condensador (corrente 10): líquido saturado."
   ]
  },
  {
   "cell_type": "markdown",
   "metadata": {},
   "source": [
    "![problema](./images/tabela-correntes.png)"
   ]
  },
  {
   "cell_type": "markdown",
   "metadata": {},
   "source": [
    "a) Determinar a eficiência térmica do sistema modificado proposto;\n",
    "\n",
    "b) Obter a taxa de trabalho realizado em cada turbina; a taxa de calor\n",
    "fornecido nas caldeiras; a taxa de trabalho consumida em cada bomba;\n",
    "\n",
    "c) Determinar a vazão mássica de água de resfriamento empregada no\n",
    "condensador.\n",
    "\n",
    "d) Construir o diagrama T x s do sistema.\n",
    "\n",
    "e) Realizar análise paramétrica no desempenho do ciclo considerando a\n",
    "variação das pressões de descargas das turbinas; e a temperatura de saída\n",
    "da caldeira 1; (para esta análise, plote gráficos para demonstrar a influência\n",
    "desses parâmetros na eficiência térmica do ciclo). Discuta os resultados\n",
    "obtidos."
   ]
  },
  {
   "cell_type": "code",
   "execution_count": 22,
   "metadata": {},
   "outputs": [],
   "source": [
    "# Pacotes necessários para a execução do código\n",
    "import numpy as np\n",
    "import pandas as pd\n",
    "import matplotlib.pyplot as plt\n",
    "import CoolProp.CoolProp as CP"
   ]
  },
  {
   "cell_type": "code",
   "execution_count": 23,
   "metadata": {},
   "outputs": [],
   "source": [
    "# Tabela onde serão armazenados os dados\n",
    "colunas = ['Corrente', 'Pressão (kPa)', 'Temperatura (°C)', 'Entalpia (kJ/kg)', 'Entropia (kJ/kg·K)', 'Estado', 'ṁ (kg/h)']\n",
    "df = pd.DataFrame(columns=colunas)"
   ]
  },
  {
   "cell_type": "code",
   "execution_count": 24,
   "metadata": {},
   "outputs": [],
   "source": [
    "def obter_propriedades(P, T=None, x=None, s=None):\n",
    "    \"\"\"Retorna h (kJ/kg) e s (kJ/kg·K) para um dado estado.\n",
    "\n",
    "    Args:\n",
    "        P (float): Pressão (kPa).\n",
    "        T (float, optional): Temperatura (°C). Defaults to None.\n",
    "        x (float, optional): Título. Defaults to None.\n",
    "        s (float, optional): Entropia (kJ/kg·K). Defaults to None.\n",
    "\n",
    "    Returns:\n",
    "        tuple: h (kJ/kg) e s (kJ/kg·K).\n",
    "    \"\"\"\n",
    "    # Estado definido por P e T\n",
    "    if T is not None:\n",
    "        h = CP.PropsSI('H', 'P', P, 'T', T, 'Water') / 1000  # kJ/kg\n",
    "        s = CP.PropsSI('S', 'P', P, 'T', T, 'Water') / 1000  # kJ/kg·K\n",
    "    # Estado definido por P e título\n",
    "    elif x is not None:\n",
    "        h = CP.PropsSI('H', 'P', P, 'Q', x, 'Water') / 1000\n",
    "        s = CP.PropsSI('S', 'P', P, 'Q', x, 'Water') / 1000\n",
    "    # Estado definido por P e entropia (processo isentrópico)\n",
    "    elif s is not None:\n",
    "        try:\n",
    "            # s em kJ/kg·K → J/kg·K\n",
    "            h = CP.PropsSI('H', 'P', P, 'S', s*1000, 'Water') / 1000\n",
    "        except:\n",
    "            # Calcular título se for mistura\n",
    "            s_liq = CP.PropsSI('S', 'P', P, 'Q', 0, 'Water') / 1000\n",
    "            s_vap = CP.PropsSI('S', 'P', P, 'Q', 1, 'Water') / 1000\n",
    "            x = (s - s_liq) / (s_vap - s_liq)\n",
    "            h = CP.PropsSI('H', 'P', P, 'Q', x, 'Water') / 1000\n",
    "    return h, s"
   ]
  },
  {
   "cell_type": "code",
   "execution_count": 25,
   "metadata": {},
   "outputs": [],
   "source": [
    "# Ponto 1: Saída da Caldeira 1 (15 MPa, 600°C)\n",
    "\n",
    "P1 = 15000     # kPa\n",
    "T1 = 600       # °C\n",
    "h1, s1 = obter_propriedades(P1*1e3, T=T1+273.15)\n",
    "m_dot1 = 10000 # kg/h\n",
    "\n",
    "# Adicionar dados à tabela para uso posterior\n",
    "df.loc[len(df)] = [1, P1, T1, h1, s1, 'Vapor superaquecido', m_dot1]"
   ]
  },
  {
   "cell_type": "code",
   "execution_count": 26,
   "metadata": {},
   "outputs": [],
   "source": [
    "# Ponto 2: Saída da Turbina 1 (4 MPa, expansão isentrópica)\n",
    "P2 = 4000  # kPa\n",
    "m_dot2 = m_dot1\n",
    "h2, s2 = obter_propriedades(P2*1e3, s=s1)  # s2 = s1\n",
    "T2 = CP.PropsSI('T', 'P', P2*1e3, 'H', h2*1000, 'Water') - 273.15\n",
    "df.loc[len(df)] = [2, P2, round(T2,1), h2, s2, 'Mistura' if 0 < (h2 - CP.PropsSI('H', 'P', P2*1e3, 'Q', 0, 'Water')/1000) < (CP.PropsSI('H', 'P', P2*1e3, 'Q', 1, 'Water')/1000 - CP.PropsSI('H', 'P', P2*1e3, 'Q', 0, 'Water')/1000) else 'Vapor', m_dot2]"
   ]
  },
  {
   "cell_type": "code",
   "execution_count": 27,
   "metadata": {},
   "outputs": [],
   "source": [
    "# Ponto 3:\n",
    "P3 = P2\n",
    "m_dot3 = 0.82 * m_dot1\n",
    "h3 = h2\n",
    "s3 = s2\n",
    "T3 = T2\n",
    "# Estado igual ao Ponto 2 (extração para regeneração)\n",
    "df.loc[len(df)] = [3, P3, T3 ,h3,s3,'-', m_dot3]"
   ]
  },
  {
   "cell_type": "code",
   "execution_count": 28,
   "metadata": {},
   "outputs": [],
   "source": [
    "# Ponto 4:\n",
    "P4 = P3\n",
    "m_dot4 = 0.18 * m_dot1\n",
    "T4 = T2\n",
    "h4 = h2\n",
    "s4 = s2\n",
    "# Estado igual ao Ponto 2 (extração para regeneração)\n",
    "df.loc[len(df)] = [4, P4, T4, h4, s4, '-', m_dot4]"
   ]
  },
  {
   "cell_type": "code",
   "execution_count": 29,
   "metadata": {},
   "outputs": [],
   "source": [
    "# Ponto 5: Saída da Caldeira 2 (4 MPa, 600°C) - Correção da errata\n",
    "P5 = 4000  # kPa\n",
    "T5 = 600   # °C\n",
    "m_dot5 = m_dot3\n",
    "h5, s5 = obter_propriedades(P5*1e3, T=T5+273.15)\n",
    "df.loc[len(df)] = [5, P5, T5, h5, s5, 'Vapor superaquecido', m_dot5]"
   ]
  },
  {
   "cell_type": "code",
   "execution_count": 30,
   "metadata": {},
   "outputs": [],
   "source": [
    "# Ponto 6: Saída da Turbina 2 (500 kPa, expansão isentrópica)\n",
    "P6 = 500  # kPa\n",
    "h6, s6 = obter_propriedades(P6*1e3, s=s5)  # s6 = s5\n",
    "m_dot6 = m_dot5\n",
    "T6 = CP.PropsSI('T', 'P', P6*1e3, 'H', h6*1000, 'Water') - 273.15\n",
    "df.loc[len(df)] = [6, P6, round(T6,1), h6, s6, '-', m_dot6]"
   ]
  },
  {
   "cell_type": "code",
   "execution_count": 31,
   "metadata": {},
   "outputs": [],
   "source": [
    "# Ponto 7: (igual ao Ponto 6)\n",
    "P7 = P6  # Mesma pressão\n",
    "m_dot7 = 0.13 * m_dot6\n",
    "h7 = h6\n",
    "s7 = s6\n",
    "T7 = T6\n",
    "df.loc[len(df)] = [7, P7, T7, h7, s7, '-', m_dot7]"
   ]
  },
  {
   "cell_type": "code",
   "execution_count": 32,
   "metadata": {},
   "outputs": [],
   "source": [
    "# Ponto 8:\n",
    "P8 = P6 # Mesma pressão\n",
    "m_dot8 = 0.87 * m_dot6\n",
    "h8 = h6\n",
    "s8 = s6\n",
    "T8 = T6\n",
    "df.loc[len(df)] = [8, P8, T8, h8, s8, '-', m_dot8]"
   ]
  },
  {
   "cell_type": "code",
   "execution_count": 33,
   "metadata": {},
   "outputs": [],
   "source": [
    "# Ponto 9: Saída da Turbina 2\n",
    "P9 = 10  # kPa\n",
    "s9 = s6\n",
    "h9, _ = obter_propriedades(P9*1e3, s=s9)\n",
    "m_dot9 = m_dot8\n",
    "T9 = CP.PropsSI('T', 'P', P9*1e3, 'H', h9*1000, 'Water') - 273.15\n",
    "df.loc[len(df)] = [9, P9, round(T9,1), h9, s9, 'Vapor úmido', m_dot9]"
   ]
  },
  {
   "cell_type": "code",
   "execution_count": 34,
   "metadata": {},
   "outputs": [],
   "source": [
    "# Ponto 10: Saída do Condensador\n",
    "P10 = P9\n",
    "m_dot10 = m_dot9\n",
    "h10 = CP.PropsSI('H', 'P', P10*1e3, 'Q', 0, 'Water') / 1000\n",
    "s10 = CP.PropsSI('S', 'P', P10*1e3, 'Q', 0, 'Water') / 1000\n",
    "T10 = CP.PropsSI('T', 'P', P10*1e3, 'Q', 0, 'Water') - 273.15\n",
    "df.loc[len(df)] = [10, P10, round(T10,1), h10, s10, 'Líquido saturado', m_dot10]"
   ]
  },
  {
   "cell_type": "code",
   "execution_count": 35,
   "metadata": {},
   "outputs": [],
   "source": [
    "# Ponto 11: Saída da Bomba 1\n",
    "P11 = 500  # kPa (pressão aumentada para regeneração)\n",
    "h11 = h10 + (P11*1e3 - P10*1e3)/(1000 * 1000)  # Trabalho da bomba simplificado\n",
    "s11 = s10\n",
    "m_dot11 = m_dot10\n",
    "T11 = CP.PropsSI('T', 'P', P11*1e3, 'H', h11*1000, 'Water') - 273.15\n",
    "df.loc[len(df)] = [11, P11, round(T11,1), h11, s11, 'Líquido comprimido', m_dot11]"
   ]
  },
  {
   "cell_type": "code",
   "execution_count": 36,
   "metadata": {},
   "outputs": [],
   "source": [
    "# Ponto 12:\n",
    "P12 = P11\n",
    "m_dot12 = m_dot11 + m_dot7\n",
    "h12 = (m_dot11 * h11 + m_dot7 * h7) / m_dot12\n",
    "s12 = (m_dot11 * s11 + m_dot7 * s7) / m_dot12\n",
    "T12 = CP.PropsSI('T', 'P', P12*1e3, 'H', h12*1000, 'Water') - 273.15\n",
    "df.loc[len(df)] = [12, P12, round(T12,1), h12, s12, 'Mistura', m_dot12]"
   ]
  },
  {
   "cell_type": "code",
   "execution_count": 37,
   "metadata": {},
   "outputs": [],
   "source": [
    "# Ponto 13: (saída da Bomba 2)\n",
    "P13 = 15000  # kPa\n",
    "m_dot13 = m_dot12\n",
    "s13 = s12\n",
    "\n",
    "# Trabalho da Bomba 2 (processo isentrópico)\n",
    "# W_bomba = v * ΔP, onde v é o volume específico do líquido\n",
    "v12 = 1 / CP.PropsSI('D', 'P', P12*1e3, 'H', h12*1000, 'Water')\n",
    "W_bomba2 = v12 * (P13 - P12)  # Trabalho da bomba em J/kg\n",
    "\n",
    "# Entalpia do Ponto 13\n",
    "h13 = h12 + W_bomba2\n",
    "\n",
    "# Temperatura do Ponto 13\n",
    "T13 = CP.PropsSI('T', 'P', P13*1e3, 'H', h13*1000, 'Water') - 273.15\n",
    "\n",
    "df.loc[len(df)] = [13, P13, round(T13,1), h13, s13, 'Líquido comprimido', m_dot13]"
   ]
  },
  {
   "cell_type": "code",
   "execution_count": 38,
   "metadata": {},
   "outputs": [],
   "source": [
    "# Ponto 14: (saída do trocador de calor)\n",
    "P14 = P13\n",
    "h14 = (m_dot13 * h13 + m_dot4 * h4) / (m_dot13 + m_dot4)\n",
    "s14 = (m_dot13 * s13 + m_dot4 * s4) / (m_dot13 + m_dot4)\n",
    "T14 = CP.PropsSI('T', 'P', P14*1e3, 'H', h14*1000, 'Water') - 273.15\n",
    "m_dot14 = (m_dot13 + m_dot4) / 2\n",
    "df.loc[len(df)] = [14, P14, round(T14,1), h14, s14, 'Mistura', m_dot14]"
   ]
  },
  {
   "cell_type": "code",
   "execution_count": 39,
   "metadata": {},
   "outputs": [],
   "source": [
    "# Ponto 15: (saída do trocador de calor para bomba 3)\n",
    "P15 = P13 * 0.2667\n",
    "m_dot15 = m_dot14\n",
    "h15 = h14\n",
    "s15 = s14\n",
    "T15 = T14\n",
    "df.loc[len(df)] = [15, P15, T15, h15, s15, 'Líquido Saturado', m_dot15]"
   ]
  },
  {
   "cell_type": "code",
   "execution_count": null,
   "metadata": {},
   "outputs": [],
   "source": [
    "# Ponto 16: (saída da Bomba 3)\n",
    "P16 = 15000  # kPa\n",
    "m_dot16 = m_dot15\n",
    "s16 = s15\n",
    "\n",
    "# W_bomba = v * ΔP, onde v é o volume específico do líquido\n",
    "v23 = 1 / CP.PropsSI('D', 'P', P15*1e3, 'H', h15*1000, 'Water')\n",
    "W_bomba3 = v23 * (P16 - P15)  # Trabalho da bomba em J/kg\n",
    "\n",
    "# Entalpia do Ponto 16\n",
    "h16 = h15 + W_bomba3\n",
    "\n",
    "# Temperatura do Ponto 16\n",
    "T16 = CP.PropsSI('T', 'P', P16*1e3, 'H', h16*1000, 'Water') - 273.15\n",
    "\n",
    "df.loc[len(df)] = [16, P16, round(T16,1), h16, s16, 'Líquido comprimido', m_dot16]"
   ]
  },
  {
   "cell_type": "code",
   "execution_count": 41,
   "metadata": {},
   "outputs": [
    {
     "data": {
      "text/html": [
       "<div>\n",
       "<style scoped>\n",
       "    .dataframe tbody tr th:only-of-type {\n",
       "        vertical-align: middle;\n",
       "    }\n",
       "\n",
       "    .dataframe tbody tr th {\n",
       "        vertical-align: top;\n",
       "    }\n",
       "\n",
       "    .dataframe thead th {\n",
       "        text-align: right;\n",
       "    }\n",
       "</style>\n",
       "<table border=\"1\" class=\"dataframe\">\n",
       "  <thead>\n",
       "    <tr style=\"text-align: right;\">\n",
       "      <th></th>\n",
       "      <th>Pressão (kPa)</th>\n",
       "      <th>Temperatura (°C)</th>\n",
       "      <th>Entalpia (kJ/kg)</th>\n",
       "      <th>Entropia (kJ/kg·K)</th>\n",
       "    </tr>\n",
       "    <tr>\n",
       "      <th>Corrente</th>\n",
       "      <th></th>\n",
       "      <th></th>\n",
       "      <th></th>\n",
       "      <th></th>\n",
       "    </tr>\n",
       "  </thead>\n",
       "  <tbody>\n",
       "    <tr>\n",
       "      <th>1</th>\n",
       "      <td>15000.0</td>\n",
       "      <td>600.000000</td>\n",
       "      <td>3583.131761</td>\n",
       "      <td>6.679590</td>\n",
       "    </tr>\n",
       "    <tr>\n",
       "      <th>2</th>\n",
       "      <td>4000.0</td>\n",
       "      <td>374.700000</td>\n",
       "      <td>3153.874543</td>\n",
       "      <td>6.679590</td>\n",
       "    </tr>\n",
       "    <tr>\n",
       "      <th>3</th>\n",
       "      <td>4000.0</td>\n",
       "      <td>374.656993</td>\n",
       "      <td>3153.874543</td>\n",
       "      <td>6.679590</td>\n",
       "    </tr>\n",
       "    <tr>\n",
       "      <th>4</th>\n",
       "      <td>4000.0</td>\n",
       "      <td>374.656993</td>\n",
       "      <td>3153.874543</td>\n",
       "      <td>6.679590</td>\n",
       "    </tr>\n",
       "    <tr>\n",
       "      <th>5</th>\n",
       "      <td>4000.0</td>\n",
       "      <td>600.000000</td>\n",
       "      <td>3674.867523</td>\n",
       "      <td>7.370528</td>\n",
       "    </tr>\n",
       "    <tr>\n",
       "      <th>6</th>\n",
       "      <td>500.0</td>\n",
       "      <td>275.400000</td>\n",
       "      <td>3013.589893</td>\n",
       "      <td>7.370528</td>\n",
       "    </tr>\n",
       "    <tr>\n",
       "      <th>7</th>\n",
       "      <td>500.0</td>\n",
       "      <td>275.350710</td>\n",
       "      <td>3013.589893</td>\n",
       "      <td>7.370528</td>\n",
       "    </tr>\n",
       "    <tr>\n",
       "      <th>8</th>\n",
       "      <td>500.0</td>\n",
       "      <td>275.350710</td>\n",
       "      <td>3013.589893</td>\n",
       "      <td>7.370528</td>\n",
       "    </tr>\n",
       "    <tr>\n",
       "      <th>9</th>\n",
       "      <td>10.0</td>\n",
       "      <td>45.800000</td>\n",
       "      <td>2335.617568</td>\n",
       "      <td>7.370528</td>\n",
       "    </tr>\n",
       "    <tr>\n",
       "      <th>10</th>\n",
       "      <td>10.0</td>\n",
       "      <td>45.800000</td>\n",
       "      <td>191.805945</td>\n",
       "      <td>0.649196</td>\n",
       "    </tr>\n",
       "    <tr>\n",
       "      <th>11</th>\n",
       "      <td>500.0</td>\n",
       "      <td>45.800000</td>\n",
       "      <td>192.295945</td>\n",
       "      <td>0.649196</td>\n",
       "    </tr>\n",
       "    <tr>\n",
       "      <th>12</th>\n",
       "      <td>500.0</td>\n",
       "      <td>132.900000</td>\n",
       "      <td>559.064158</td>\n",
       "      <td>1.522969</td>\n",
       "    </tr>\n",
       "    <tr>\n",
       "      <th>13</th>\n",
       "      <td>15000.0</td>\n",
       "      <td>134.300000</td>\n",
       "      <td>574.614912</td>\n",
       "      <td>1.522969</td>\n",
       "    </tr>\n",
       "    <tr>\n",
       "      <th>14</th>\n",
       "      <td>15000.0</td>\n",
       "      <td>239.900000</td>\n",
       "      <td>1038.881645</td>\n",
       "      <td>2.451161</td>\n",
       "    </tr>\n",
       "    <tr>\n",
       "      <th>15</th>\n",
       "      <td>4000.5</td>\n",
       "      <td>239.939204</td>\n",
       "      <td>1038.881645</td>\n",
       "      <td>2.451161</td>\n",
       "    </tr>\n",
       "    <tr>\n",
       "      <th>16</th>\n",
       "      <td>15000.0</td>\n",
       "      <td>242.800000</td>\n",
       "      <td>1052.400111</td>\n",
       "      <td>2.451161</td>\n",
       "    </tr>\n",
       "    <tr>\n",
       "      <th>17</th>\n",
       "      <td>15000.0</td>\n",
       "      <td>241.400000</td>\n",
       "      <td>1045.640878</td>\n",
       "      <td>2.451161</td>\n",
       "    </tr>\n",
       "  </tbody>\n",
       "</table>\n",
       "</div>"
      ],
      "text/plain": [
       "          Pressão (kPa)  Temperatura (°C)  Entalpia (kJ/kg)  \\\n",
       "Corrente                                                      \n",
       "1               15000.0        600.000000       3583.131761   \n",
       "2                4000.0        374.700000       3153.874543   \n",
       "3                4000.0        374.656993       3153.874543   \n",
       "4                4000.0        374.656993       3153.874543   \n",
       "5                4000.0        600.000000       3674.867523   \n",
       "6                 500.0        275.400000       3013.589893   \n",
       "7                 500.0        275.350710       3013.589893   \n",
       "8                 500.0        275.350710       3013.589893   \n",
       "9                  10.0         45.800000       2335.617568   \n",
       "10                 10.0         45.800000        191.805945   \n",
       "11                500.0         45.800000        192.295945   \n",
       "12                500.0        132.900000        559.064158   \n",
       "13              15000.0        134.300000        574.614912   \n",
       "14              15000.0        239.900000       1038.881645   \n",
       "15               4000.5        239.939204       1038.881645   \n",
       "16              15000.0        242.800000       1052.400111   \n",
       "17              15000.0        241.400000       1045.640878   \n",
       "\n",
       "          Entropia (kJ/kg·K)  \n",
       "Corrente                      \n",
       "1                   6.679590  \n",
       "2                   6.679590  \n",
       "3                   6.679590  \n",
       "4                   6.679590  \n",
       "5                   7.370528  \n",
       "6                   7.370528  \n",
       "7                   7.370528  \n",
       "8                   7.370528  \n",
       "9                   7.370528  \n",
       "10                  0.649196  \n",
       "11                  0.649196  \n",
       "12                  1.522969  \n",
       "13                  1.522969  \n",
       "14                  2.451161  \n",
       "15                  2.451161  \n",
       "16                  2.451161  \n",
       "17                  2.451161  "
      ]
     },
     "execution_count": 41,
     "metadata": {},
     "output_type": "execute_result"
    }
   ],
   "source": [
    "# Ponto 17:\n",
    "P17 = P16\n",
    "m_dot17  = m_dot16 + m_dot14\n",
    "h17 = (m_dot16 * h16 + m_dot14 * h14) / m_dot17\n",
    "s17 = (m_dot16 * s16 + m_dot14 * s14) / m_dot17\n",
    "T17 = CP.PropsSI('T', 'P', P17*1e3, 'H', h17*1000, 'Water') - 273.15\n",
    "df.loc[len(df)] = [17, P17, round(T17,1), h17, s17, 'Mistura', m_dot17]\n",
    "df.set_index('Corrente', inplace=True)\n",
    "df[['Pressão (kPa)', 'Temperatura (°C)', 'Entalpia (kJ/kg)', 'Entropia (kJ/kg·K)']]"
   ]
  },
  {
   "cell_type": "code",
   "execution_count": 42,
   "metadata": {},
   "outputs": [],
   "source": [
    "df[['Pressão (kPa)', 'Temperatura (°C)', 'Entalpia (kJ/kg)', 'Entropia (kJ/kg·K)']].to_excel('TabelaCorrentes-Propriedades.xlsx')"
   ]
  },
  {
   "cell_type": "code",
   "execution_count": null,
   "metadata": {},
   "outputs": [],
   "source": []
  }
 ],
 "metadata": {
  "kernelspec": {
   "display_name": ".venv",
   "language": "python",
   "name": "python3"
  },
  "language_info": {
   "codemirror_mode": {
    "name": "ipython",
    "version": 3
   },
   "file_extension": ".py",
   "mimetype": "text/x-python",
   "name": "python",
   "nbconvert_exporter": "python",
   "pygments_lexer": "ipython3",
   "version": "3.11.3"
  }
 },
 "nbformat": 4,
 "nbformat_minor": 2
}
