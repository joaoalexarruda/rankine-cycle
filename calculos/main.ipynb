{
 "cells": [
  {
   "cell_type": "markdown",
   "metadata": {},
   "source": [
    "# ESTUDO E RESOLUÇÃO DO CICLO DE RANKINE COM MODIFICAÇÕES\n",
    "\n",
    "---"
   ]
  },
  {
   "cell_type": "markdown",
   "metadata": {},
   "source": [
    "## Descrição do Problema Proposto"
   ]
  },
  {
   "cell_type": "markdown",
   "metadata": {},
   "source": [
    "A figura a seguir contém o esquema do ciclo termodinâmico de potência\n",
    "a ser avaliado neste trabalho:\n",
    "\n",
    "![problema](./images/esquema-problema.png)"
   ]
  },
  {
   "cell_type": "markdown",
   "metadata": {},
   "source": [
    "As hipóteses para serem adotadas para o ciclo:\n",
    "\n",
    " - Fluido de trabalho: vapor d’água;\n",
    " - Perda de carga desprezível nos equipamentos de troca térmica;\n",
    " - Operação isentrópica das turbinas e das bombas;\n",
    " - Vazão mássica (ṁ ) da corrente 1 fixa em 10.000 kg/h;\n",
    " - Saída do condensador (corrente 10): líquido saturado."
   ]
  },
  {
   "cell_type": "markdown",
   "metadata": {},
   "source": [
    "![problema](./images/tabela-correntes.png)"
   ]
  },
  {
   "cell_type": "markdown",
   "metadata": {},
   "source": [
    "a) Determinar a eficiência térmica do sistema modificado proposto;\n",
    "\n",
    "b) Obter a taxa de trabalho realizado em cada turbina; a taxa de calor\n",
    "fornecido nas caldeiras; a taxa de trabalho consumida em cada bomba;\n",
    "\n",
    "c) Determinar a vazão mássica de água de resfriamento empregada no\n",
    "condensador.\n",
    "\n",
    "d) Construir o diagrama T x s do sistema.\n",
    "\n",
    "e) Realizar análise paramétrica no desempenho do ciclo considerando a\n",
    "variação das pressões de descargas das turbinas; e a temperatura de saída\n",
    "da caldeira 1; (para esta análise, plote gráficos para demonstrar a influência\n",
    "desses parâmetros na eficiência térmica do ciclo). Discuta os resultados\n",
    "obtidos."
   ]
  },
  {
   "cell_type": "code",
   "execution_count": 2045,
   "metadata": {},
   "outputs": [],
   "source": [
    "# Pacotes necessários para a execução do código\n",
    "\n",
    "import numpy as np\n",
    "import pandas as pd\n",
    "import matplotlib.pyplot as plt\n",
    "import CoolProp.CoolProp as CP\n",
    "from IPython.display import display, Math, Latex"
   ]
  },
  {
   "cell_type": "code",
   "execution_count": 2046,
   "metadata": {},
   "outputs": [],
   "source": [
    "# Tabela onde serão armazenados os dados\n",
    "\n",
    "colunas = ['Corrente', 'Pressão (kPa)', 'Temperatura (°C)', 'Entalpia (kJ/kg)', 'Entropia (kJ/kg·K)', 'Estado', 'ṁ (kg/h)']\n",
    "df = pd.DataFrame(columns=colunas)"
   ]
  },
  {
   "cell_type": "code",
   "execution_count": 2047,
   "metadata": {},
   "outputs": [],
   "source": [
    "def obter_propriedades(P, T=None, x=None, s=None):\n",
    "    \"\"\"Retorna h (kJ/kg) e s (kJ/kg·K) para um dado estado.\n",
    "\n",
    "    Args:\n",
    "        P (float): Pressão (kPa).\n",
    "        T (float, optional): Temperatura (°C). Defaults to None.\n",
    "        x (float, optional): Título. Defaults to None.\n",
    "        s (float, optional): Entropia (kJ/kg·K). Defaults to None.\n",
    "\n",
    "    Returns:\n",
    "        tuple: h (kJ/kg) e s (kJ/kg·K).\n",
    "    \"\"\"\n",
    "    # Estado definido por P e T\n",
    "    if T is not None:\n",
    "        h = CP.PropsSI('H', 'P', P, 'T', T, 'Water') / 1000  # kJ/kg\n",
    "        s = CP.PropsSI('S', 'P', P, 'T', T, 'Water') / 1000  # kJ/kg·K\n",
    "    # Estado definido por P e título\n",
    "    elif x is not None:\n",
    "        h = CP.PropsSI('H', 'P', P, 'Q', x, 'Water') / 1000\n",
    "        s = CP.PropsSI('S', 'P', P, 'Q', x, 'Water') / 1000\n",
    "    # Estado definido por P e entropia (processo isentrópico)\n",
    "    elif s is not None:\n",
    "        try:\n",
    "            # s em kJ/kg·K → J/kg·K\n",
    "            h = CP.PropsSI('H', 'P', P, 'S', s*1000, 'Water') / 1000\n",
    "        except:\n",
    "            # Calcular título se for mistura\n",
    "            s_liq = CP.PropsSI('S', 'P', P, 'Q', 0, 'Water') / 1000\n",
    "            s_vap = CP.PropsSI('S', 'P', P, 'Q', 1, 'Water') / 1000\n",
    "            x = (s - s_liq) / (s_vap - s_liq)\n",
    "            h = CP.PropsSI('H', 'P', P, 'Q', x, 'Water') / 1000\n",
    "    return h, s"
   ]
  },
  {
   "cell_type": "code",
   "execution_count": 2048,
   "metadata": {},
   "outputs": [
    {
     "data": {
      "text/plain": [
       "Corrente                                1\n",
       "Pressão (kPa)                       15000\n",
       "Temperatura (°C)                      600\n",
       "Entalpia (kJ/kg)              3583.131761\n",
       "Entropia (kJ/kg·K)                6.67959\n",
       "Estado                Vapor superaquecido\n",
       "ṁ (kg/h)                            10000\n",
       "Name: 0, dtype: object"
      ]
     },
     "execution_count": 2048,
     "metadata": {},
     "output_type": "execute_result"
    }
   ],
   "source": [
    "# Ponto 1: Saída da Caldeira 1 (15 MPa, 600°C)\n",
    "\n",
    "P1 = 15000     # kPa\n",
    "T1 = 600       # °C\n",
    "h1, s1 = obter_propriedades(P1*1e3, T=T1+273.15)\n",
    "m_dot1 = 10000 # kg/h\n",
    "\n",
    "# Adicionar dados à tabela para uso posterior\n",
    "\n",
    "df.loc[len(df)] = [1, P1, T1, h1, s1, 'Vapor superaquecido', m_dot1]\n",
    "df.iloc[-1]"
   ]
  },
  {
   "cell_type": "code",
   "execution_count": 2049,
   "metadata": {},
   "outputs": [
    {
     "data": {
      "text/plain": [
       "Corrente                        2\n",
       "Pressão (kPa)                4000\n",
       "Temperatura (°C)            374.7\n",
       "Entalpia (kJ/kg)      3153.874543\n",
       "Entropia (kJ/kg·K)        6.67959\n",
       "Estado                      Vapor\n",
       "ṁ (kg/h)                    10000\n",
       "Name: 1, dtype: object"
      ]
     },
     "execution_count": 2049,
     "metadata": {},
     "output_type": "execute_result"
    }
   ],
   "source": [
    "# Ponto 2: Saída da Turbina 1 (4 MPa, expansão isentrópica)\n",
    "\n",
    "P2 = 4000  # kPa\n",
    "m_dot2 = m_dot1\n",
    "h2, s2 = obter_propriedades(P2*1e3, s=s1)  # s2 = s1\n",
    "T2 = CP.PropsSI('T', 'P', P2*1e3, 'H', h2*1000, 'Water') - 273.15\n",
    "\n",
    "# Adicionar dados à tabela para uso posterior\n",
    "\n",
    "df.loc[len(df)] = [2, P2, round(T2,1), h2, s2, 'Mistura' if 0 < (h2 - CP.PropsSI('H', 'P', P2*1e3, 'Q', 0, 'Water')/1000) < (CP.PropsSI('H', 'P', P2*1e3, 'Q', 1, 'Water')/1000 - CP.PropsSI('H', 'P', P2*1e3, 'Q', 0, 'Water')/1000) else 'Vapor', m_dot2]\n",
    "df.iloc[-1]"
   ]
  },
  {
   "cell_type": "code",
   "execution_count": 2050,
   "metadata": {},
   "outputs": [
    {
     "data": {
      "text/latex": [
       "$\\displaystyle \\dot{W}_{t1} = 1192.38 \\, \\text{kW}$"
      ],
      "text/plain": [
       "<IPython.core.display.Math object>"
      ]
     },
     "metadata": {},
     "output_type": "display_data"
    }
   ],
   "source": [
    "# Trabalho da Turbina 1\n",
    "\n",
    "Wt1 = (m_dot1/3600) * (h1 - h2)  # kW\n",
    "display(Math(r'\\dot{W}_{t1} = %.2f \\, \\text{kW}' % Wt1))"
   ]
  },
  {
   "cell_type": "code",
   "execution_count": 2051,
   "metadata": {},
   "outputs": [
    {
     "data": {
      "text/plain": [
       "Corrente                        3\n",
       "Pressão (kPa)                4000\n",
       "Temperatura (°C)       374.656993\n",
       "Entalpia (kJ/kg)      3153.874543\n",
       "Entropia (kJ/kg·K)        6.67959\n",
       "Estado                          -\n",
       "ṁ (kg/h)                   8200.0\n",
       "Name: 2, dtype: object"
      ]
     },
     "execution_count": 2051,
     "metadata": {},
     "output_type": "execute_result"
    }
   ],
   "source": [
    "# Ponto 3: Entrada da Caldeira 2\n",
    "\n",
    "P3 = P2\n",
    "m_dot3 = 0.82 * m_dot1\n",
    "h3 = h2\n",
    "s3 = s2\n",
    "T3 = T2\n",
    "\n",
    "# Adicionar dados à tabela para uso posterior\n",
    "\n",
    "df.loc[len(df)] = [3, P3, T3 ,h3,s3,'-', m_dot3]\n",
    "df.iloc[-1]"
   ]
  },
  {
   "cell_type": "code",
   "execution_count": 2052,
   "metadata": {},
   "outputs": [
    {
     "data": {
      "text/plain": [
       "Corrente                        4\n",
       "Pressão (kPa)                4000\n",
       "Temperatura (°C)       374.656993\n",
       "Entalpia (kJ/kg)      3153.874543\n",
       "Entropia (kJ/kg·K)        6.67959\n",
       "Estado                          -\n",
       "ṁ (kg/h)                   1800.0\n",
       "Name: 3, dtype: object"
      ]
     },
     "execution_count": 2052,
     "metadata": {},
     "output_type": "execute_result"
    }
   ],
   "source": [
    "# Ponto 4: Saída do splitter e entrada do Trocador de Calor\n",
    "\n",
    "P4 = P3\n",
    "m_dot4 = 0.18 * m_dot1\n",
    "T4 = T2\n",
    "h4 = h2\n",
    "s4 = s2\n",
    "\n",
    "# Adicionar dados à tabela para uso posterior\n",
    "\n",
    "df.loc[len(df)] = [4, P4, T4, h4, s4, '-', m_dot4]\n",
    "df.iloc[-1]"
   ]
  },
  {
   "cell_type": "code",
   "execution_count": 2053,
   "metadata": {},
   "outputs": [
    {
     "data": {
      "text/plain": [
       "Corrente                                5\n",
       "Pressão (kPa)                        4000\n",
       "Temperatura (°C)                    600.0\n",
       "Entalpia (kJ/kg)              3674.867523\n",
       "Entropia (kJ/kg·K)               7.370528\n",
       "Estado                Vapor superaquecido\n",
       "ṁ (kg/h)                           8200.0\n",
       "Name: 4, dtype: object"
      ]
     },
     "execution_count": 2053,
     "metadata": {},
     "output_type": "execute_result"
    }
   ],
   "source": [
    "# Ponto 5: Saída da Caldeira 2 (4 MPa, 600°C) - Correção da errata\n",
    "\n",
    "P5 = 4000  # kPa\n",
    "T5 = 600   # °C\n",
    "m_dot5 = m_dot3\n",
    "h5, s5 = obter_propriedades(P5*1e3, T=T5+273.15)\n",
    "\n",
    "# Adicionar dados à tabela para uso posterior\n",
    "\n",
    "df.loc[len(df)] = [5, P5, T5, h5, s5, 'Vapor superaquecido', m_dot5]\n",
    "df.iloc[-1]"
   ]
  },
  {
   "cell_type": "code",
   "execution_count": 2054,
   "metadata": {},
   "outputs": [
    {
     "data": {
      "text/latex": [
       "$\\displaystyle \\dot{Q}_{\\text{in, cald 2}} = 1186.71 \\, \\text{kW}$"
      ],
      "text/plain": [
       "<IPython.core.display.Math object>"
      ]
     },
     "metadata": {},
     "output_type": "display_data"
    }
   ],
   "source": [
    "# Calor fornecido pela Caldeira 2\n",
    "\n",
    "Q_in_cald2 = (m_dot5/3600) * (h5 - h4)  # kW\n",
    "display(Math(r'\\dot{Q}_{\\text{in, cald 2}} = %.2f \\, \\text{kW}' % Q_in_cald2))"
   ]
  },
  {
   "cell_type": "code",
   "execution_count": 2055,
   "metadata": {},
   "outputs": [
    {
     "data": {
      "text/plain": [
       "Corrente                        6\n",
       "Pressão (kPa)                 500\n",
       "Temperatura (°C)            275.4\n",
       "Entalpia (kJ/kg)      3013.589893\n",
       "Entropia (kJ/kg·K)       7.370528\n",
       "Estado                          -\n",
       "ṁ (kg/h)                   8200.0\n",
       "Name: 5, dtype: object"
      ]
     },
     "execution_count": 2055,
     "metadata": {},
     "output_type": "execute_result"
    }
   ],
   "source": [
    "# Ponto 6: Saída da Turbina 2 (1° Estágio) (500 kPa, expansão isentrópica)\n",
    "\n",
    "P6 = 500  # kPa\n",
    "h6, s6 = obter_propriedades(P6*1e3, s=s5)  # s6 = s5\n",
    "m_dot6 = m_dot5\n",
    "T6 = CP.PropsSI('T', 'P', P6*1e3, 'H', h6*1000, 'Water') - 273.15\n",
    "\n",
    "# Adicionar dados à tabela para uso posterior\n",
    "\n",
    "df.loc[len(df)] = [6, P6, round(T6,1), h6, s6, '-', m_dot6]\n",
    "df.iloc[-1]"
   ]
  },
  {
   "cell_type": "code",
   "execution_count": 2056,
   "metadata": {},
   "outputs": [
    {
     "data": {
      "text/latex": [
       "$\\displaystyle \\dot{W}_{t2, 1\\text{° est}} = 1506.24 \\, \\text{kW}$"
      ],
      "text/plain": [
       "<IPython.core.display.Math object>"
      ]
     },
     "metadata": {},
     "output_type": "display_data"
    }
   ],
   "source": [
    "# Trabalho da Turbina 2 (1° Estágio)\n",
    "\n",
    "Wt2_1est = (m_dot5/3600) * (h5 - h6)  # kW\n",
    "display(Math(r'\\dot{W}_{t2, 1\\text{° est}} = %.2f \\, \\text{kW}' % Wt2_1est))"
   ]
  },
  {
   "cell_type": "code",
   "execution_count": 2057,
   "metadata": {},
   "outputs": [
    {
     "data": {
      "text/plain": [
       "Corrente                        7\n",
       "Pressão (kPa)                 500\n",
       "Temperatura (°C)        275.35071\n",
       "Entalpia (kJ/kg)      3013.589893\n",
       "Entropia (kJ/kg·K)       7.370528\n",
       "Estado                          -\n",
       "ṁ (kg/h)                   1066.0\n",
       "Name: 6, dtype: object"
      ]
     },
     "execution_count": 2057,
     "metadata": {},
     "output_type": "execute_result"
    }
   ],
   "source": [
    "# Ponto 7: Saída da Turbina 2 após passar por um splitter\n",
    "\n",
    "P7 = P6  # Mesma pressão\n",
    "m_dot7 = 0.13 * m_dot6\n",
    "h7 = h6\n",
    "s7 = s6\n",
    "T7 = T6\n",
    "\n",
    "# Adicionar dados à tabela para uso posterior\n",
    "\n",
    "df.loc[len(df)] = [7, P7, T7, h7, s7, '-', m_dot7]\n",
    "df.iloc[-1]"
   ]
  },
  {
   "cell_type": "code",
   "execution_count": 2058,
   "metadata": {},
   "outputs": [
    {
     "data": {
      "text/plain": [
       "Corrente                        8\n",
       "Pressão (kPa)                 500\n",
       "Temperatura (°C)        275.35071\n",
       "Entalpia (kJ/kg)      3013.589893\n",
       "Entropia (kJ/kg·K)       7.370528\n",
       "Estado                          -\n",
       "ṁ (kg/h)                   7134.0\n",
       "Name: 7, dtype: object"
      ]
     },
     "execution_count": 2058,
     "metadata": {},
     "output_type": "execute_result"
    }
   ],
   "source": [
    "# Ponto 8:\n",
    "\n",
    "P8 = P6\n",
    "m_dot8 = 0.87 * m_dot6\n",
    "h8 = h6\n",
    "s8 = s6\n",
    "T8 = T6\n",
    "\n",
    "# Adicionar dados à tabela para uso posterior\n",
    "\n",
    "df.loc[len(df)] = [8, P8, T8, h8, s8, '-', m_dot8]\n",
    "df.iloc[-1]"
   ]
  },
  {
   "cell_type": "code",
   "execution_count": 2059,
   "metadata": {},
   "outputs": [
    {
     "data": {
      "text/plain": [
       "Corrente                        9\n",
       "Pressão (kPa)                  10\n",
       "Temperatura (°C)             45.8\n",
       "Entalpia (kJ/kg)      2335.617568\n",
       "Entropia (kJ/kg·K)       7.370528\n",
       "Estado                Vapor úmido\n",
       "ṁ (kg/h)                   7134.0\n",
       "Name: 8, dtype: object"
      ]
     },
     "execution_count": 2059,
     "metadata": {},
     "output_type": "execute_result"
    }
   ],
   "source": [
    "# Ponto 9: Saída da Turbina 2 (2° Estágio) (10 kPa, expansão isentrópica)\n",
    "\n",
    "P9 = 10  # kPa\n",
    "s9 = s6\n",
    "h9, _ = obter_propriedades(P9*1e3, s=s9)\n",
    "m_dot9 = m_dot8\n",
    "T9 = CP.PropsSI('T', 'P', P9*1e3, 'H', h9*1000, 'Water') - 273.15\n",
    "\n",
    "# Adicionar dados à tabela para uso posterior\n",
    "\n",
    "df.loc[len(df)] = [9, P9, round(T9,1), h9, s9, 'Vapor úmido', m_dot9]\n",
    "df.iloc[-1]"
   ]
  },
  {
   "cell_type": "code",
   "execution_count": 2060,
   "metadata": {},
   "outputs": [
    {
     "data": {
      "text/latex": [
       "$\\displaystyle \\dot{W}_{t2, 2\\text{° est}} = 1343.52 \\, \\text{kW}$"
      ],
      "text/plain": [
       "<IPython.core.display.Math object>"
      ]
     },
     "metadata": {},
     "output_type": "display_data"
    }
   ],
   "source": [
    "# Trabalho da Turbina 2 (2° Estágio)\n",
    "\n",
    "Wt2_2est = (m_dot8/3600) * (h8 - h9)  # kW\n",
    "display(Math(r'\\dot{W}_{t2, 2\\text{° est}} = %.2f \\, \\text{kW}' % Wt2_2est))"
   ]
  },
  {
   "cell_type": "code",
   "execution_count": 2061,
   "metadata": {},
   "outputs": [
    {
     "data": {
      "text/plain": [
       "Corrente                            10\n",
       "Pressão (kPa)                       10\n",
       "Temperatura (°C)                  45.8\n",
       "Entalpia (kJ/kg)            191.805945\n",
       "Entropia (kJ/kg·K)            0.649196\n",
       "Estado                Líquido saturado\n",
       "ṁ (kg/h)                        7134.0\n",
       "Name: 9, dtype: object"
      ]
     },
     "execution_count": 2061,
     "metadata": {},
     "output_type": "execute_result"
    }
   ],
   "source": [
    "# Ponto 10: Saída do Condensador\n",
    "\n",
    "P10 = P9\n",
    "m_dot10 = m_dot9\n",
    "h10 = CP.PropsSI('H', 'P', P10*1e3, 'Q', 0, 'Water') / 1000\n",
    "s10 = CP.PropsSI('S', 'P', P10*1e3, 'Q', 0, 'Water') / 1000\n",
    "T10 = CP.PropsSI('T', 'P', P10*1e3, 'Q', 0, 'Water') - 273.15\n",
    "\n",
    "# Adicionar dados à tabela para uso posterior\n",
    "\n",
    "df.loc[len(df)] = [10, P10, round(T10,1), h10, s10, 'Líquido saturado', m_dot10]\n",
    "df.iloc[-1]"
   ]
  },
  {
   "cell_type": "code",
   "execution_count": 2062,
   "metadata": {},
   "outputs": [
    {
     "data": {
      "text/latex": [
       "$\\displaystyle \\dot{Q}_{\\text{out, cond}} = 4248.32 \\, \\text{kW}$"
      ],
      "text/plain": [
       "<IPython.core.display.Math object>"
      ]
     },
     "metadata": {},
     "output_type": "display_data"
    }
   ],
   "source": [
    "# Calor retirado pelo Condensador\n",
    "\n",
    "Q_out_cond = (m_dot9/3600) * (h9 - h10)  # kW\n",
    "display(Math(r'\\dot{Q}_{\\text{out, cond}} = %.2f \\, \\text{kW}' % Q_out_cond))"
   ]
  },
  {
   "cell_type": "code",
   "execution_count": 2063,
   "metadata": {},
   "outputs": [
    {
     "data": {
      "text/plain": [
       "Corrente                              11\n",
       "Pressão (kPa)                        500\n",
       "Temperatura (°C)                    45.8\n",
       "Entalpia (kJ/kg)              192.295945\n",
       "Entropia (kJ/kg·K)              0.649196\n",
       "Estado                Líquido comprimido\n",
       "ṁ (kg/h)                          7134.0\n",
       "Name: 10, dtype: object"
      ]
     },
     "execution_count": 2063,
     "metadata": {},
     "output_type": "execute_result"
    }
   ],
   "source": [
    "# Ponto 11: Saída da Bomba 1\n",
    "\n",
    "P11 = 500  # kPa (pressão aumentada para regeneração)\n",
    "h11 = h10 + (P11*1e3 - P10*1e3)/(1000 * 1000)  # Trabalho da bomba simplificado\n",
    "s11 = s10\n",
    "m_dot11 = m_dot10\n",
    "T11 = CP.PropsSI('T', 'P', P11*1e3, 'H', h11*1000, 'Water') - 273.15\n",
    "\n",
    "# Adicionar dados à tabela para uso posterior\n",
    "\n",
    "df.loc[len(df)] = [11, P11, round(T11,1), h11, s11, 'Líquido comprimido', m_dot11]\n",
    "df.iloc[-1]"
   ]
  },
  {
   "cell_type": "code",
   "execution_count": 2064,
   "metadata": {},
   "outputs": [
    {
     "data": {
      "text/latex": [
       "$\\displaystyle \\dot{W}_{b1} = 0.97 \\, \\text{kW}$"
      ],
      "text/plain": [
       "<IPython.core.display.Math object>"
      ]
     },
     "metadata": {},
     "output_type": "display_data"
    }
   ],
   "source": [
    "# Trabalho da Bomba 1\n",
    "\n",
    "Wb1 = (m_dot10/3600) * (h11 - h10)  # kW\n",
    "display(Math(r'\\dot{W}_{b1} = %.2f \\, \\text{kW}' % Wb1))"
   ]
  },
  {
   "cell_type": "code",
   "execution_count": 2065,
   "metadata": {},
   "outputs": [
    {
     "data": {
      "text/plain": [
       "Corrente                      12\n",
       "Pressão (kPa)                500\n",
       "Temperatura (°C)           132.9\n",
       "Entalpia (kJ/kg)      559.064158\n",
       "Entropia (kJ/kg·K)      1.665377\n",
       "Estado                   Mistura\n",
       "ṁ (kg/h)                  8200.0\n",
       "Name: 11, dtype: object"
      ]
     },
     "execution_count": 2065,
     "metadata": {},
     "output_type": "execute_result"
    }
   ],
   "source": [
    "# Ponto 12: Mistura dos fluxos 7 e 11\n",
    "\n",
    "P12 = P11\n",
    "m_dot12 = m_dot11 + m_dot7\n",
    "h12 = (m_dot11 * h11 + m_dot7 * h7) / m_dot12\n",
    "s12 = CP.PropsSI('S', 'P', P12*1e3, 'H', h12*1000, 'Water') / 1000\n",
    "T12 = CP.PropsSI('T', 'P', P12*1e3, 'H', h12*1000, 'Water') - 273.15\n",
    "\n",
    "# Adicionar dados à tabela para uso posterior\n",
    "\n",
    "df.loc[len(df)] = [12, P12, round(T12,1), h12, s12, 'Mistura', m_dot12]\n",
    "df.iloc[-1]"
   ]
  },
  {
   "cell_type": "code",
   "execution_count": 2066,
   "metadata": {},
   "outputs": [
    {
     "data": {
      "text/plain": [
       "Corrente                              13\n",
       "Pressão (kPa)                      15000\n",
       "Temperatura (°C)                   134.3\n",
       "Entalpia (kJ/kg)              574.562176\n",
       "Entropia (kJ/kg·K)              1.665377\n",
       "Estado                Líquido comprimido\n",
       "ṁ (kg/h)                          8200.0\n",
       "Name: 12, dtype: object"
      ]
     },
     "execution_count": 2066,
     "metadata": {},
     "output_type": "execute_result"
    }
   ],
   "source": [
    "# Ponto 13: Saída da Bomba 2\n",
    "\n",
    "P13 = 15000  # kPa\n",
    "m_dot13 = m_dot12\n",
    "s13 = s12\n",
    "h13 = CP.PropsSI('H', 'P', P13*1e3, 'S', s13*1000, 'Water') / 1000\n",
    "T13 = CP.PropsSI('T', 'P', P13*1e3, 'H', h13*1000, 'Water') - 273.15\n",
    "\n",
    "# Adicionar dados à tabela para uso posterior\n",
    "\n",
    "df.loc[len(df)] = [13, P13, round(T13,1), h13, s13, 'Líquido comprimido', m_dot13]\n",
    "df.iloc[-1]"
   ]
  },
  {
   "cell_type": "code",
   "execution_count": 2067,
   "metadata": {},
   "outputs": [
    {
     "data": {
      "text/latex": [
       "$\\displaystyle \\dot{W}_{b2} = 35.30 \\, \\text{kW}$"
      ],
      "text/plain": [
       "<IPython.core.display.Math object>"
      ]
     },
     "metadata": {},
     "output_type": "display_data"
    }
   ],
   "source": [
    "# Trabalho da Bomba 2\n",
    "\n",
    "Wb2 = (m_dot12/3600) * (h13 - h12)  # kW\n",
    "display(Math(r'\\dot{W}_{b2} = %.2f \\, \\text{kW}' % Wb2))"
   ]
  },
  {
   "cell_type": "code",
   "execution_count": 2068,
   "metadata": {},
   "outputs": [
    {
     "data": {
      "text/plain": [
       "Corrente                       14\n",
       "Pressão (kPa)               15000\n",
       "Temperatura (°C)            239.9\n",
       "Entalpia (kJ/kg)      1038.838402\n",
       "Entropia (kJ/kg·K)       2.676767\n",
       "Estado                    Mistura\n",
       "ṁ (kg/h)                   8200.0\n",
       "Name: 13, dtype: object"
      ]
     },
     "execution_count": 2068,
     "metadata": {},
     "output_type": "execute_result"
    }
   ],
   "source": [
    "# Ponto 14: (saída do trocador de calor)\n",
    "\n",
    "P14 = P13\n",
    "h14 = (m_dot13 * h13 + m_dot4 * h4) / (m_dot13 + m_dot4)\n",
    "s14 = CP.PropsSI('S', 'P', P14*1e3, 'H', h14*1000, 'Water') / 1000\n",
    "T14 = CP.PropsSI('T', 'P', P14*1e3, 'H', h14*1000, 'Water') - 273.15\n",
    "m_dot14 = m_dot13\n",
    "\n",
    "# Adicionar dados à tabela para uso posterior\n",
    "\n",
    "df.loc[len(df)] = [14, P14, round(T14,1), h14, s14, 'Mistura', m_dot14]\n",
    "df.iloc[-1]"
   ]
  },
  {
   "cell_type": "code",
   "execution_count": 2069,
   "metadata": {},
   "outputs": [
    {
     "data": {
      "text/plain": [
       "Corrente                            15\n",
       "Pressão (kPa)                     4000\n",
       "Temperatura (°C)            250.354045\n",
       "Entalpia (kJ/kg)           1087.491597\n",
       "Entropia (kJ/kg·K)            2.796762\n",
       "Estado                Líquido Saturado\n",
       "ṁ (kg/h)                        1800.0\n",
       "Name: 14, dtype: object"
      ]
     },
     "execution_count": 2069,
     "metadata": {},
     "output_type": "execute_result"
    }
   ],
   "source": [
    "# Ponto 15: Saída do trocador de calor para bomba 3\n",
    "\n",
    "P15 = P4\n",
    "m_dot15 = m_dot4\n",
    "h15 = CP.PropsSI('H', 'P', P15*1e3, 'Q', 0, 'Water') / 1000\n",
    "s15 = CP.PropsSI('S', 'P', P15*1e3, 'Q', 0, 'Water') / 1000\n",
    "T15 = CP.PropsSI('T', 'P', P15*1e3, 'Q', 0, 'Water') - 273.15\n",
    "\n",
    "# Adicionar dados à tabela para uso posterior\n",
    "\n",
    "df.loc[len(df)] = [15, P15, T15, h15, s15, 'Líquido Saturado', m_dot15]\n",
    "df.iloc[-1]"
   ]
  },
  {
   "cell_type": "code",
   "execution_count": 2070,
   "metadata": {},
   "outputs": [
    {
     "name": "stderr",
     "output_type": "stream",
     "text": [
      "c:\\Users\\jalex\\my_projects\\rankine-cycle\\.venv\\Lib\\site-packages\\IPython\\core\\displayhook.py:281: UserWarning: Output cache limit (currently 1000 entries) hit.\n",
      "Flushing oldest 200 entries.\n",
      "  warn('Output cache limit (currently {sz} entries) hit.\\n'\n"
     ]
    },
    {
     "data": {
      "text/plain": [
       "Corrente                              16\n",
       "Pressão (kPa)                      15000\n",
       "Temperatura (°C)                   253.2\n",
       "Entalpia (kJ/kg)             1101.199858\n",
       "Entropia (kJ/kg·K)              2.796762\n",
       "Estado                Líquido comprimido\n",
       "ṁ (kg/h)                          1800.0\n",
       "Name: 15, dtype: object"
      ]
     },
     "execution_count": 2070,
     "metadata": {},
     "output_type": "execute_result"
    }
   ],
   "source": [
    "# Ponto 16: Saída da Bomba 3\n",
    "\n",
    "P16 = 15000  # kPa\n",
    "m_dot16 = m_dot15\n",
    "s16 = s15\n",
    "h16 = CP.PropsSI('H', 'P', P16*1e3, 'S', s16*1000, 'Water') / 1000\n",
    "T16 = CP.PropsSI('T', 'P', P16*1e3, 'H', h16*1000, 'Water') - 273.15\n",
    "\n",
    "# Adicionar dados à tabela para uso posterior\n",
    "\n",
    "df.loc[len(df)] = [16, P16, round(T16,1), h16, s16, 'Líquido comprimido', m_dot16]\n",
    "df.iloc[-1]"
   ]
  },
  {
   "cell_type": "code",
   "execution_count": 2071,
   "metadata": {},
   "outputs": [
    {
     "data": {
      "text/latex": [
       "$\\displaystyle \\dot{W}_{b3} = 6.85 \\, \\text{kW}$"
      ],
      "text/plain": [
       "<IPython.core.display.Math object>"
      ]
     },
     "metadata": {},
     "output_type": "display_data"
    }
   ],
   "source": [
    "# Trabalho da Bomba 3\n",
    "\n",
    "Wb3 = (m_dot15/3600) * (h16 - h15)  # kW\n",
    "display(Math(r'\\dot{W}_{b3} = %.2f \\, \\text{kW}' % Wb3))"
   ]
  },
  {
   "cell_type": "code",
   "execution_count": 2072,
   "metadata": {},
   "outputs": [
    {
     "data": {
      "text/html": [
       "<div>\n",
       "<style scoped>\n",
       "    .dataframe tbody tr th:only-of-type {\n",
       "        vertical-align: middle;\n",
       "    }\n",
       "\n",
       "    .dataframe tbody tr th {\n",
       "        vertical-align: top;\n",
       "    }\n",
       "\n",
       "    .dataframe thead th {\n",
       "        text-align: right;\n",
       "    }\n",
       "</style>\n",
       "<table border=\"1\" class=\"dataframe\">\n",
       "  <thead>\n",
       "    <tr style=\"text-align: right;\">\n",
       "      <th></th>\n",
       "      <th>Pressão (kPa)</th>\n",
       "      <th>Temperatura (°C)</th>\n",
       "      <th>Entalpia (kJ/kg)</th>\n",
       "      <th>Entropia (kJ/kg·K)</th>\n",
       "      <th>ṁ (kg/h)</th>\n",
       "    </tr>\n",
       "    <tr>\n",
       "      <th>Corrente</th>\n",
       "      <th></th>\n",
       "      <th></th>\n",
       "      <th></th>\n",
       "      <th></th>\n",
       "      <th></th>\n",
       "    </tr>\n",
       "  </thead>\n",
       "  <tbody>\n",
       "    <tr>\n",
       "      <th>1</th>\n",
       "      <td>15000</td>\n",
       "      <td>600.000000</td>\n",
       "      <td>3583.131761</td>\n",
       "      <td>6.679590</td>\n",
       "      <td>10000.0</td>\n",
       "    </tr>\n",
       "    <tr>\n",
       "      <th>2</th>\n",
       "      <td>4000</td>\n",
       "      <td>374.700000</td>\n",
       "      <td>3153.874543</td>\n",
       "      <td>6.679590</td>\n",
       "      <td>10000.0</td>\n",
       "    </tr>\n",
       "    <tr>\n",
       "      <th>3</th>\n",
       "      <td>4000</td>\n",
       "      <td>374.656993</td>\n",
       "      <td>3153.874543</td>\n",
       "      <td>6.679590</td>\n",
       "      <td>8200.0</td>\n",
       "    </tr>\n",
       "    <tr>\n",
       "      <th>4</th>\n",
       "      <td>4000</td>\n",
       "      <td>374.656993</td>\n",
       "      <td>3153.874543</td>\n",
       "      <td>6.679590</td>\n",
       "      <td>1800.0</td>\n",
       "    </tr>\n",
       "    <tr>\n",
       "      <th>5</th>\n",
       "      <td>4000</td>\n",
       "      <td>600.000000</td>\n",
       "      <td>3674.867523</td>\n",
       "      <td>7.370528</td>\n",
       "      <td>8200.0</td>\n",
       "    </tr>\n",
       "    <tr>\n",
       "      <th>6</th>\n",
       "      <td>500</td>\n",
       "      <td>275.400000</td>\n",
       "      <td>3013.589893</td>\n",
       "      <td>7.370528</td>\n",
       "      <td>8200.0</td>\n",
       "    </tr>\n",
       "    <tr>\n",
       "      <th>7</th>\n",
       "      <td>500</td>\n",
       "      <td>275.350710</td>\n",
       "      <td>3013.589893</td>\n",
       "      <td>7.370528</td>\n",
       "      <td>1066.0</td>\n",
       "    </tr>\n",
       "    <tr>\n",
       "      <th>8</th>\n",
       "      <td>500</td>\n",
       "      <td>275.350710</td>\n",
       "      <td>3013.589893</td>\n",
       "      <td>7.370528</td>\n",
       "      <td>7134.0</td>\n",
       "    </tr>\n",
       "    <tr>\n",
       "      <th>9</th>\n",
       "      <td>10</td>\n",
       "      <td>45.800000</td>\n",
       "      <td>2335.617568</td>\n",
       "      <td>7.370528</td>\n",
       "      <td>7134.0</td>\n",
       "    </tr>\n",
       "    <tr>\n",
       "      <th>10</th>\n",
       "      <td>10</td>\n",
       "      <td>45.800000</td>\n",
       "      <td>191.805945</td>\n",
       "      <td>0.649196</td>\n",
       "      <td>7134.0</td>\n",
       "    </tr>\n",
       "    <tr>\n",
       "      <th>11</th>\n",
       "      <td>500</td>\n",
       "      <td>45.800000</td>\n",
       "      <td>192.295945</td>\n",
       "      <td>0.649196</td>\n",
       "      <td>7134.0</td>\n",
       "    </tr>\n",
       "    <tr>\n",
       "      <th>12</th>\n",
       "      <td>500</td>\n",
       "      <td>132.900000</td>\n",
       "      <td>559.064158</td>\n",
       "      <td>1.665377</td>\n",
       "      <td>8200.0</td>\n",
       "    </tr>\n",
       "    <tr>\n",
       "      <th>13</th>\n",
       "      <td>15000</td>\n",
       "      <td>134.300000</td>\n",
       "      <td>574.562176</td>\n",
       "      <td>1.665377</td>\n",
       "      <td>8200.0</td>\n",
       "    </tr>\n",
       "    <tr>\n",
       "      <th>14</th>\n",
       "      <td>15000</td>\n",
       "      <td>239.900000</td>\n",
       "      <td>1038.838402</td>\n",
       "      <td>2.676767</td>\n",
       "      <td>8200.0</td>\n",
       "    </tr>\n",
       "    <tr>\n",
       "      <th>15</th>\n",
       "      <td>4000</td>\n",
       "      <td>250.354045</td>\n",
       "      <td>1087.491597</td>\n",
       "      <td>2.796762</td>\n",
       "      <td>1800.0</td>\n",
       "    </tr>\n",
       "    <tr>\n",
       "      <th>16</th>\n",
       "      <td>15000</td>\n",
       "      <td>253.200000</td>\n",
       "      <td>1101.199858</td>\n",
       "      <td>2.796762</td>\n",
       "      <td>1800.0</td>\n",
       "    </tr>\n",
       "    <tr>\n",
       "      <th>17</th>\n",
       "      <td>15000</td>\n",
       "      <td>242.300000</td>\n",
       "      <td>1050.063464</td>\n",
       "      <td>2.698593</td>\n",
       "      <td>10000.0</td>\n",
       "    </tr>\n",
       "  </tbody>\n",
       "</table>\n",
       "</div>"
      ],
      "text/plain": [
       "          Pressão (kPa)  Temperatura (°C)  Entalpia (kJ/kg)  \\\n",
       "Corrente                                                      \n",
       "1                 15000        600.000000       3583.131761   \n",
       "2                  4000        374.700000       3153.874543   \n",
       "3                  4000        374.656993       3153.874543   \n",
       "4                  4000        374.656993       3153.874543   \n",
       "5                  4000        600.000000       3674.867523   \n",
       "6                   500        275.400000       3013.589893   \n",
       "7                   500        275.350710       3013.589893   \n",
       "8                   500        275.350710       3013.589893   \n",
       "9                    10         45.800000       2335.617568   \n",
       "10                   10         45.800000        191.805945   \n",
       "11                  500         45.800000        192.295945   \n",
       "12                  500        132.900000        559.064158   \n",
       "13                15000        134.300000        574.562176   \n",
       "14                15000        239.900000       1038.838402   \n",
       "15                 4000        250.354045       1087.491597   \n",
       "16                15000        253.200000       1101.199858   \n",
       "17                15000        242.300000       1050.063464   \n",
       "\n",
       "          Entropia (kJ/kg·K)  ṁ (kg/h)  \n",
       "Corrente                                \n",
       "1                   6.679590   10000.0  \n",
       "2                   6.679590   10000.0  \n",
       "3                   6.679590    8200.0  \n",
       "4                   6.679590    1800.0  \n",
       "5                   7.370528    8200.0  \n",
       "6                   7.370528    8200.0  \n",
       "7                   7.370528    1066.0  \n",
       "8                   7.370528    7134.0  \n",
       "9                   7.370528    7134.0  \n",
       "10                  0.649196    7134.0  \n",
       "11                  0.649196    7134.0  \n",
       "12                  1.665377    8200.0  \n",
       "13                  1.665377    8200.0  \n",
       "14                  2.676767    8200.0  \n",
       "15                  2.796762    1800.0  \n",
       "16                  2.796762    1800.0  \n",
       "17                  2.698593   10000.0  "
      ]
     },
     "execution_count": 2072,
     "metadata": {},
     "output_type": "execute_result"
    }
   ],
   "source": [
    "# Ponto 17: Mistura dos fluxos 16 e 14\n",
    "\n",
    "P17 = P16\n",
    "m_dot17  = m_dot16 + m_dot14\n",
    "h17 = (m_dot16 * h16 + m_dot14 * h14) / m_dot17\n",
    "s17 = CP.PropsSI('S', 'P', P17*1e3, 'H', h17*1000, 'Water') / 1000\n",
    "T17 = CP.PropsSI('T', 'P', P17*1e3, 'H', h17*1000, 'Water') - 273.15\n",
    "\n",
    "# Adicionar dados à tabela para uso posterior\n",
    "\n",
    "df.loc[len(df)] = [17, P17, round(T17,1), h17, s17, 'Mistura', m_dot17]\n",
    "df.set_index('Corrente', inplace=True)\n",
    "df_correntes = df[['Pressão (kPa)', 'Temperatura (°C)', 'Entalpia (kJ/kg)', 'Entropia (kJ/kg·K)', 'ṁ (kg/h)']]\n",
    "df_correntes"
   ]
  },
  {
   "cell_type": "code",
   "execution_count": 2073,
   "metadata": {},
   "outputs": [],
   "source": [
    "# Salvar tabela em arquivo Excel e Latex\n",
    "\n",
    "df_correntes.to_excel('TabelaCorrentes-Propriedades.xlsx')\n",
    "df_correntes.to_latex('TabelaCorrentes-Propriedades.tex')"
   ]
  },
  {
   "cell_type": "code",
   "execution_count": 2074,
   "metadata": {},
   "outputs": [
    {
     "data": {
      "text/latex": [
       "$\\displaystyle \\dot{Q}_{\\text{in, cald 1}} = 7036.30 \\, \\text{kW}$"
      ],
      "text/plain": [
       "<IPython.core.display.Math object>"
      ]
     },
     "metadata": {},
     "output_type": "display_data"
    }
   ],
   "source": [
    "# Calor fornecido pela Caldeira 1\n",
    "\n",
    "Q_in_cald1 = (m_dot1/3600) * (h1 - h17)  # kW\n",
    "display(Math(r'\\dot{Q}_{\\text{in, cald 1}} = %.2f \\, \\text{kW}' % Q_in_cald1))"
   ]
  },
  {
   "cell_type": "markdown",
   "metadata": {},
   "source": [
    "---"
   ]
  },
  {
   "cell_type": "markdown",
   "metadata": {},
   "source": [
    "a) Determinar a eficiência térmica do sistema modificado proposto;"
   ]
  },
  {
   "cell_type": "code",
   "execution_count": 2075,
   "metadata": {},
   "outputs": [
    {
     "data": {
      "text/latex": [
       "$\\displaystyle \\eta = \\frac{\\dot{W}_{liq}}{\\dot{Q}_{h}} = 0.4863 = 48.63 \\, \\%$"
      ],
      "text/plain": [
       "<IPython.core.display.Math object>"
      ]
     },
     "metadata": {},
     "output_type": "display_data"
    }
   ],
   "source": [
    "# Eficiência térmica\n",
    "\n",
    "eta = (Wt1 + Wt2_1est + Wt2_2est - Wb1 - Wb2 - Wb3) / (Q_in_cald1 + Q_in_cald2)\n",
    "display(Math(r'\\eta = \\frac{\\dot{W}_{liq}}{\\dot{Q}_{h}} = %.4f = %.2f \\, \\%%' % (eta, eta * 100)))"
   ]
  },
  {
   "cell_type": "markdown",
   "metadata": {},
   "source": [
    "b) Obter a taxa de trabalho realizado em cada turbina; a taxa de calor \n",
    "fornecido nas caldeiras; a taxa de trabalho consumida em cada bomba;"
   ]
  },
  {
   "cell_type": "code",
   "execution_count": 2076,
   "metadata": {},
   "outputs": [
    {
     "data": {
      "text/latex": [
       "$\\displaystyle \\dot{W}_{turbina \\ 1} = 1192.38 \\, \\text{kW}$"
      ],
      "text/plain": [
       "<IPython.core.display.Math object>"
      ]
     },
     "metadata": {},
     "output_type": "display_data"
    },
    {
     "data": {
      "text/latex": [
       "$\\displaystyle \\dot{W}_{turbina \\ 2, 1\\text{° est}} = 1506.24 \\, \\text{kW}$"
      ],
      "text/plain": [
       "<IPython.core.display.Math object>"
      ]
     },
     "metadata": {},
     "output_type": "display_data"
    },
    {
     "data": {
      "text/latex": [
       "$\\displaystyle \\dot{W}_{turbina \\ 2, 2\\text{° est}} = 1343.52 \\, \\text{kW}$"
      ],
      "text/plain": [
       "<IPython.core.display.Math object>"
      ]
     },
     "metadata": {},
     "output_type": "display_data"
    },
    {
     "data": {
      "text/latex": [
       "$\\displaystyle \\dot{W}_{bomba \\ 1} = 0.97 \\, \\text{kW}$"
      ],
      "text/plain": [
       "<IPython.core.display.Math object>"
      ]
     },
     "metadata": {},
     "output_type": "display_data"
    },
    {
     "data": {
      "text/latex": [
       "$\\displaystyle \\dot{W}_{bomba \\ 2} = 35.30 \\, \\text{kW}$"
      ],
      "text/plain": [
       "<IPython.core.display.Math object>"
      ]
     },
     "metadata": {},
     "output_type": "display_data"
    },
    {
     "data": {
      "text/latex": [
       "$\\displaystyle \\dot{W}_{bomba \\ 3} = 6.85 \\, \\text{kW}$"
      ],
      "text/plain": [
       "<IPython.core.display.Math object>"
      ]
     },
     "metadata": {},
     "output_type": "display_data"
    },
    {
     "data": {
      "text/latex": [
       "$\\displaystyle \\dot{Q}_{cald \\ 1} = 7036.30 \\, \\text{kW}$"
      ],
      "text/plain": [
       "<IPython.core.display.Math object>"
      ]
     },
     "metadata": {},
     "output_type": "display_data"
    },
    {
     "data": {
      "text/latex": [
       "$\\displaystyle \\dot{Q}_{cald \\ 2} = 1186.71 \\, \\text{kW}$"
      ],
      "text/plain": [
       "<IPython.core.display.Math object>"
      ]
     },
     "metadata": {},
     "output_type": "display_data"
    },
    {
     "data": {
      "text/latex": [
       "$\\displaystyle \\dot{Q}_{cond} = 4248.32 \\, \\text{kW}$"
      ],
      "text/plain": [
       "<IPython.core.display.Math object>"
      ]
     },
     "metadata": {},
     "output_type": "display_data"
    }
   ],
   "source": [
    "# Taxas de trabalho e calor de cada componente\n",
    "\n",
    "display(Math(r'\\dot{W}_{turbina \\ 1} = %.2f \\, \\text{kW}' % Wt1))\n",
    "display(Math(r'\\dot{W}_{turbina \\ 2, 1\\text{° est}} = %.2f \\, \\text{kW}' % Wt2_1est))\n",
    "display(Math(r'\\dot{W}_{turbina \\ 2, 2\\text{° est}} = %.2f \\, \\text{kW}' % Wt2_2est))\n",
    "display(Math(r'\\dot{W}_{bomba \\ 1} = %.2f \\, \\text{kW}' % Wb1))\n",
    "display(Math(r'\\dot{W}_{bomba \\ 2} = %.2f \\, \\text{kW}' % Wb2))\n",
    "display(Math(r'\\dot{W}_{bomba \\ 3} = %.2f \\, \\text{kW}' % Wb3))\n",
    "display(Math(r'\\dot{Q}_{cald \\ 1} = %.2f \\, \\text{kW}' % Q_in_cald1))\n",
    "display(Math(r'\\dot{Q}_{cald \\ 2} = %.2f \\, \\text{kW}' % Q_in_cald2))\n",
    "display(Math(r'\\dot{Q}_{cond} = %.2f \\, \\text{kW}' % Q_out_cond))"
   ]
  },
  {
   "cell_type": "markdown",
   "metadata": {},
   "source": [
    "c) Determinar a vazão mássica de água de resfriamento empregada no \n",
    "condensador."
   ]
  },
  {
   "cell_type": "code",
   "execution_count": 2077,
   "metadata": {},
   "outputs": [
    {
     "data": {
      "text/latex": [
       "$\\displaystyle \\dot{m}_{\\text{água, resf}} = 67756.30 \\, \\text{kg/s}$"
      ],
      "text/plain": [
       "<IPython.core.display.Math object>"
      ]
     },
     "metadata": {},
     "output_type": "display_data"
    }
   ],
   "source": [
    "# Vazão mássica de água de resfriamento no condensador\n",
    "\n",
    "cp = 4.18  # kJ/kg·K\n",
    "\n",
    "# Considerando que a água de resfriamento entra a 25°C e sai a 40°C\n",
    "ΔT = 15  # K\n",
    "Q_out_cond = Q_out_cond * 1e3  # W\n",
    "m_resf_agua = Q_out_cond / (cp * ΔT)  # kg/s\n",
    "display(Math(r'\\dot{m}_{\\text{água, resf}} = %.2f \\, \\text{kg/s}' % m_resf_agua))"
   ]
  },
  {
   "cell_type": "markdown",
   "metadata": {},
   "source": [
    "d) Construir o diagrama T x s do sistema."
   ]
  },
  {
   "cell_type": "code",
   "execution_count": 2078,
   "metadata": {},
   "outputs": [
    {
     "data": {
      "image/png": "[encoded data removed]",
      "text/plain": [
       "<Figure size 1200x800 with 1 Axes>"
      ]
     },
     "metadata": {},
     "output_type": "display_data"
    }
   ],
   "source": [
    "# Gerar curvas de saturação\n",
    "pressures_sat = np.logspace(np.log10(1e3), np.log10(22.064e6), 100)  # Pa\n",
    "Tsat_list = []\n",
    "s_liq_list = []\n",
    "s_vap_list = []\n",
    "\n",
    "for P in pressures_sat:\n",
    "    try:\n",
    "        T = CP.PropsSI('T', 'P', P, 'Q', 0, 'Water')\n",
    "        s_liq = CP.PropsSI('S', 'P', P, 'Q', 0, 'Water') / 1000\n",
    "        s_vap = CP.PropsSI('S', 'P', P, 'Q', 1, 'Water') / 1000\n",
    "        Tsat_list.append(T - 273.15)\n",
    "        s_liq_list.append(s_liq)\n",
    "        s_vap_list.append(s_vap)\n",
    "    except:\n",
    "        continue\n",
    "\n",
    "# Criar o dicionário pontos a partir de df_correntes\n",
    "pontos = {}\n",
    "\n",
    "# Iterar sobre as linhas do DataFrame\n",
    "for corrente, row in df_correntes[['Entropia (kJ/kg·K)', 'Temperatura (°C)']].iterrows():\n",
    "    pontos[corrente] = {\n",
    "        's': row['Entropia (kJ/kg·K)'],\n",
    "        'T': row['Temperatura (°C)']\n",
    "    }\n",
    "\n",
    "# Plotar curvas de saturação\n",
    "plt.figure(figsize=(12, 8))\n",
    "plt.plot(s_liq_list, Tsat_list, 'b--', label='Líquido Saturado')\n",
    "plt.plot(s_vap_list, Tsat_list, 'r--', label='Vapor Saturado')\n",
    "plt.fill_betweenx(Tsat_list, s_liq_list, s_vap_list, color='gray', alpha=0.2)\n",
    "\n",
    "# Processos do ciclo\n",
    "# 1→2: Expansão isentrópica (Turbina 1)\n",
    "plt.plot([pontos[1]['s'], pontos[2]['s']], [pontos[1]['T'], pontos[2]['T']], 'k-', label='Turbina 1')\n",
    "\n",
    "# 2→5: Reaquecimento a 4 MPa (Caldeira 2)\n",
    "P_4MPa = 4e6\n",
    "T_values = np.linspace(pontos[2]['T'], pontos[5]['T'], 50)\n",
    "s_values = [CP.PropsSI('S', 'P', P_4MPa, 'T', T+273.15, 'Water')/1000 for T in T_values]\n",
    "plt.plot(s_values, T_values, 'g-', label='Caldeira 2')\n",
    "\n",
    "# 5→6→9: Expansão isentrópica (Turbina 2)\n",
    "plt.plot([pontos[5]['s'], pontos[6]['s']], [pontos[5]['T'], pontos[6]['T']], 'm-', label='Turbina 2 (1° est.)')\n",
    "plt.plot([pontos[6]['s'], pontos[9]['s']], [pontos[6]['T'], pontos[9]['T']], 'm--', label='Turbina 2 (2° est.)')\n",
    "\n",
    "# 9→10: Condensador (pressão constante)\n",
    "plt.hlines(pontos[9]['T'], pontos[9]['s'], pontos[10]['s'], colors='c', label='Condensador')\n",
    "\n",
    "# 10→17→1: Bombas e Caldeira 1\n",
    "plt.plot([pontos[10]['s'], pontos[17]['s']], [pontos[10]['T'], pontos[17]['T']], 'y-', label='Bombas')\n",
    "P_15MPa = 15e6\n",
    "T_values = np.linspace(pontos[17]['T'], pontos[1]['T'], 50)\n",
    "s_values = [CP.PropsSI('S', 'P', P_15MPa, 'T', T+273.15, 'Water')/1000 for T in T_values]\n",
    "plt.plot(s_values, T_values, 'orange', label='Caldeira 1')\n",
    "\n",
    "# Plotar pontos\n",
    "for p in pontos:\n",
    "    plt.plot(pontos[p]['s'], pontos[p]['T'], 'ko')\n",
    "    plt.text(pontos[p]['s'], pontos[p]['T'], f'{p}', fontsize=12, ha='right')\n",
    "\n",
    "# Configurações do gráfico\n",
    "plt.xlabel('Entropia (kJ/kg·K)', fontsize=12)\n",
    "plt.ylabel('Temperatura (°C)', fontsize=12)\n",
    "plt.title('Diagrama T-s do Ciclo de Rankine Modificado', fontsize=14)\n",
    "plt.legend(loc='upper left', bbox_to_anchor=(1, 1))\n",
    "plt.grid(True)\n",
    "plt.xlim(0, 9)\n",
    "plt.ylim(0, 650)\n",
    "plt.tight_layout()\n",
    "plt.show()"
   ]
  },
  {
   "cell_type": "markdown",
   "metadata": {},
   "source": [
    "e) Realizar análise paramétrica no desempenho do ciclo considerando a \n",
    "variação das pressões de descargas das turbinas; e a temperatura de saída \n",
    "da caldeira 1; (para esta análise, plote gráficos para demonstrar a influência \n",
    "desses parâmetros na eficiência térmica do ciclo). Discuta os resultados \n",
    "obtidos."
   ]
  }
 ],
 "metadata": {
  "kernelspec": {
   "display_name": ".venv",
   "language": "python",
   "name": "python3"
  },
  "language_info": {
   "codemirror_mode": {
    "name": "ipython",
    "version": 3
   },
   "file_extension": ".py",
   "mimetype": "text/x-python",
   "name": "python",
   "nbconvert_exporter": "python",
   "pygments_lexer": "ipython3",
   "version": "3.11.3"
  }
 },
 "nbformat": 4,
 "nbformat_minor": 2
}
